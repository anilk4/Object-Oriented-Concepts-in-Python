{
  "nbformat": 4,
  "nbformat_minor": 0,
  "metadata": {
    "colab": {
      "provenance": [],
      "authorship_tag": "ABX9TyNQmXBf0K2r+4E7JjW+UpQ9",
      "include_colab_link": true
    },
    "kernelspec": {
      "name": "python3",
      "display_name": "Python 3"
    },
    "language_info": {
      "name": "python"
    }
  },
  "cells": [
    {
      "cell_type": "markdown",
      "metadata": {
        "id": "view-in-github",
        "colab_type": "text"
      },
      "source": [
        "<a href=\"https://colab.research.google.com/github/anilk4/Object-Oriented-Concepts-in-Python/blob/main/OOPS.ipynb\" target=\"_parent\"><img src=\"https://colab.research.google.com/assets/colab-badge.svg\" alt=\"Open In Colab\"/></a>"
      ]
    },
    {
      "cell_type": "markdown",
      "source": [
        "1. Abstraction: hiding unnecessary details while showing only the necessary ones\n",
        "2. Encapsulation: bundling data and methods that operate on that data, ensuring that they are used only in the intended way\n",
        "3. Inheritance: creating a new class by extending an existing one, inheriting its properties and methods\n",
        "4. Polymorphism: allowing objects to take on many forms, meaning they can be treated as objects of different types depending on the context"
      ],
      "metadata": {
        "id": "U_cBvNxLvCk9"
      }
    },
    {
      "cell_type": "markdown",
      "source": [
        "**1. Abstraction:** You can use the **@abstractmethod** decorator in Python to define an abstract method that does not have a concrete implementation. This allows you to hide the implementation details from the user while still providing an interface to interact with the object.\n",
        "\n",
        "**Interviewer:** Can you explain the concept of abstraction in OOP, and how it is implemented in Python?\n",
        "\n",
        "**Candidate:** Abstraction is a concept in OOP where a complex system is represented by a simplified model that captures only the most important details. In Python, abstraction is implemented using abstract classes and interfaces. An abstract class is a class that cannot be instantiated, but can define abstract methods that must be implemented by its subclasses. An interface is a collection of abstract methods that define a contract for classes that implement it.\n",
        "\n",
        "In this example, we define an abstract class Shape that has an abstract method area. We then define two concrete classes Rectangle and Circle that implement the area method in their own way. Note that we can't instantiate the abstract class Shape, but we can instantiate the concrete classes Rectangle and Circle and call their area methods. This allows us to hide the implementation details of the area method and provide a consistent interface to interact with different shapes."
      ],
      "metadata": {
        "id": "ual4q5RXvY3n"
      }
    },
    {
      "cell_type": "code",
      "source": [
        "from abc import ABC, abstractmethod\n",
        "\n",
        "class Shape(ABC):\n",
        "    @abstractmethod\n",
        "    def area(self):\n",
        "        pass\n",
        "\n",
        "class Rectangle(Shape):\n",
        "    def __init__(self, width, height):\n",
        "        self.width = width\n",
        "        self.height = height\n",
        "\n",
        "    def area(self):\n",
        "        return self.width * self.height\n",
        "\n",
        "class Circle(Shape):\n",
        "    def __init__(self, radius):\n",
        "        self.radius = radius\n",
        "\n",
        "    def area(self):\n",
        "        return 3.14 * (self.radius ** 2)\n",
        "\n",
        "# This will throw a TypeError as you can't instantiate an abstract class\n",
        "#s = Shape()\n",
        "\n",
        "# This will work as Rectangle implements the area method\n",
        "r = Rectangle(5, 10)\n",
        "print(r.area()) # Output: 50\n",
        "\n",
        "# This will work as Circle implements the area method\n",
        "c = Circle(5)\n",
        "print(c.area()) # Output: 78.5\n"
      ],
      "metadata": {
        "colab": {
          "base_uri": "https://localhost:8080/"
        },
        "id": "I55qaEFQvMMS",
        "outputId": "47ae7537-b21f-439c-dbb0-00004a3825c0"
      },
      "execution_count": null,
      "outputs": [
        {
          "output_type": "stream",
          "name": "stdout",
          "text": [
            "50\n",
            "78.5\n"
          ]
        }
      ]
    },
    {
      "cell_type": "markdown",
      "source": [
        "**2. Encapsulation:** In Python, you can use properties and methods to encapsulate data and functionality. This ensures that the object's state is not modified in an unintended way.\n",
        "\n",
        "In Encapsulation There are Access Specifiers : Most Common are\n",
        "**Private** - only accessible withi the class,\n",
        "**Public** - accessible in whole class,\n",
        "**Protected** - Accessible by Inherited class**\n",
        "\n",
        "\n",
        "In this example, we define a Car class that has private instance variables __make, __model, and __year. We provide public methods get_make, get_model, get_year, set_make, set_model, and set_year to access and modify these attributes. By making the instance variables private, we ensure that they can't be accessed directly from outside the class, thus encapsulating the implementation details of the Car class. This allows us to modify the implementation of the class without affecting the clients that use it, as long as we don't change the public methods' interface."
      ],
      "metadata": {
        "id": "4b3DZDIgwZZc"
      }
    },
    {
      "cell_type": "code",
      "source": [
        "class Car:\n",
        "    def __init__(self, make, model, year):\n",
        "        self.__make = make\n",
        "        self.__model = model\n",
        "        self.__year = year\n",
        "\n",
        "    def get_make(self):\n",
        "        return self.__make\n",
        "\n",
        "    def get_model(self):\n",
        "        return self.__model\n",
        "\n",
        "    def get_year(self):\n",
        "        return self.__year\n",
        "\n",
        "    def set_make(self, make):\n",
        "        self.__make = make\n",
        "\n",
        "    def set_model(self, model):\n",
        "        self.__model = model\n",
        "\n",
        "    def set_year(self, year):\n",
        "        self.__year = year\n",
        "\n",
        "# This will work as we're using public methods to access and modify the car attributes\n",
        "car = Car(\"Toyota\", \"Corolla\", 2021)\n",
        "print(car.get_make()) # Output: Toyota\n",
        "\n",
        "car.set_make(\"Honda\")\n",
        "print(car.get_make()) # Output: Honda\n"
      ],
      "metadata": {
        "colab": {
          "base_uri": "https://localhost:8080/"
        },
        "id": "OVn1x462wG_3",
        "outputId": "cd5e830a-7b21-490f-ca8b-a9aef0e01aba"
      },
      "execution_count": null,
      "outputs": [
        {
          "output_type": "stream",
          "name": "stdout",
          "text": [
            "Toyota\n",
            "Honda\n"
          ]
        }
      ]
    },
    {
      "cell_type": "markdown",
      "source": [
        "**3.Polymorphism:** In Python, you can use the same method name to perform different actions depending on the object's type. This allows you to treat objects of different types as if they were of the same type.\n",
        "(OR)\n",
        "polymorphism allows different objects to respond to the same message or method call in their own unique way. \n",
        "Polymorphism is achieved in Python through method overriding and operator overloading.\n",
        "\n",
        "**A) Method Overloading:** Method overloading is a way to define multiple methods with the same name but different parameters. Like int and Float in below example.\n",
        "\n",
        "In this example, we define a Calculator class that has two add methods with the same name but different parameter types (int and float). Since the type of the parameters isn't explicitly declared, we use function annotations to differentiate between the two methods. We can then create an object of this class and call the add method with different parameter types, and the correct implementation of the method will be called based on the types of the parameters.\n",
        "\n",
        "**B) Method Overriding:** Method overriding is a way to redefine a method in a subclass that already exists in the parent class (or) superclass. In Python, method overriding is achieved through default arguments.\n",
        "\n",
        "In this example, we define an Animal class with a make_sound method that returns a generic animal sound. We then define a Dog subclass that overrides the make_sound method with its own implementation that takes a default argument is_happy. If is_happy is True, the dog makes a happy sound (\"Woof! Woof!\"), and if it's False, the dog makes an angry sound (\"Grrr!\"). We can then create an object of the Dog class and call its make_sound method with or without the is_happy parameter, and the correct implementation of the method will be called based on the presence of the parameter."
      ],
      "metadata": {
        "id": "zEYnXGvL83kg"
      }
    },
    {
      "cell_type": "code",
      "source": [
        "#1. Method Overloading\n",
        "\n",
        "print(\"Below is the example of method Overloading\")\n",
        "class Calculator:\n",
        "    def add(self, x: int, y: int) -> int:\n",
        "        return x + y\n",
        "\n",
        "    def add(self, x: float, y: float) -> float:\n",
        "        return x + y\n",
        "\n",
        "# This will work as we're overloading the 'add' method with two different parameter types\n",
        "calc = Calculator()\n",
        "print(calc.add(2, 3)) # Output: 5\n",
        "print(calc.add(2.5, 3.5)) # Output: 6.0\n",
        "\n",
        "print(\"\\n\")\n",
        "print(\"Below is the example of method overriding\")\n",
        "#2. Method Overriding\n",
        "class Animal:\n",
        "    def make_sound(self):\n",
        "        return \"Generic animal sound\"\n",
        "\n",
        "class Dog(Animal):\n",
        "    def make_sound(self):\n",
        "        return \"Woof! Woof!\"\n",
        "\n",
        "# This will work as we're overriding the 'make_sound' method in the Dog class\n",
        "dog = Dog()\n",
        "print(dog.make_sound()) # Output: Woof! Woof!\n",
        "\n",
        "\n",
        "\n",
        "animal = Animal()\n",
        "print(animal.make_sound())\n"
      ],
      "metadata": {
        "colab": {
          "base_uri": "https://localhost:8080/"
        },
        "id": "nOtjseIC2htN",
        "outputId": "c776a823-2499-4e7c-ccf3-276f9ad74133"
      },
      "execution_count": null,
      "outputs": [
        {
          "output_type": "stream",
          "name": "stdout",
          "text": [
            "Below is the example of method Overloading\n",
            "5\n",
            "6.0\n",
            "\n",
            "\n",
            "Below is the example of method overriding\n",
            "Woof! Woof!\n",
            "Generic animal sound\n"
          ]
        }
      ]
    },
    {
      "cell_type": "markdown",
      "source": [
        "**4. Inheritance:**\n",
        "In Python, there are four types of inheritance:\n",
        "\n",
        "**A) Single Inheritance:**\n",
        "Single inheritance is a type of inheritance in which a derived class inherits from a single base class. This is the simplest type of inheritance.\n",
        "\n",
        "**B) Multiple Inheritance:**\n",
        "Multiple inheritance is a type of inheritance in which a derived class inherits from multiple base classes. This allows the derived class to inherit attributes and methods from multiple classes.\n",
        "\n",
        "**C) Multilevel Inheritance:**\n",
        "Multilevel inheritance is a type of inheritance in which a derived class inherits from a base class, which in turn inherits from another base class. This allows for a hierarchical organization of classes.\n",
        "\n",
        "**D) Hierarchical Inheritance:**\n",
        "Hierarchical inheritance is a type of inheritance in which multiple derived classes inherit from a single base class. This allows for a hierarchy of classes that share a common base.\n",
        "\n",
        "Inheritance is a powerful mechanism in OOP that allows code reuse, promotes code organization, and makes programs easier to maintain and update."
      ],
      "metadata": {
        "id": "yfxMIRfi928P"
      }
    },
    {
      "cell_type": "markdown",
      "source": [
        "**A) Single Inheritance:**  the Dog class inherits all the attributes and methods of the Animal class, and also has its own attributes and methods defined in the Dog class. This is the essence of single inheritance in Python - a subclass can inherit the attributes and methods of its superclass and add its own attributes and methods to create a more specialized class."
      ],
      "metadata": {
        "id": "g4SA79wG_Wpn"
      }
    },
    {
      "cell_type": "code",
      "source": [
        "class Animal:\n",
        "    def __init__(self, name, sound):\n",
        "        self.name = name\n",
        "        self.sound = sound\n",
        "\n",
        "    def make_sound(self):\n",
        "        return self.sound\n",
        "\n",
        "class Dog(Animal):\n",
        "    def __init__(self, name):\n",
        "        super().__init__(name, \"Woof!\")\n",
        "\n",
        "    def wag_tail(self):\n",
        "        return \"Tail wagging\"\n",
        "\n",
        "dog = Dog(\"Buddy\")\n",
        "print(dog.make_sound()) # Output: Woof!\n",
        "print(dog.wag_tail()) # Output: Tail wagging\n"
      ],
      "metadata": {
        "colab": {
          "base_uri": "https://localhost:8080/"
        },
        "id": "eQU5e86yAZ9x",
        "outputId": "4f41a2e7-0feb-4d20-d9ad-7ca2ee2e9c11"
      },
      "execution_count": null,
      "outputs": [
        {
          "output_type": "stream",
          "name": "stdout",
          "text": [
            "Woof!\n",
            "Tail wagging\n"
          ]
        }
      ]
    },
    {
      "cell_type": "markdown",
      "source": [
        "**B) Multiple Inheritance:** When we create an instance of the Duck class, it inherits all the attributes and methods of all three base classes. Therefore, we can call the speak method, which returns \"Quack\", as well as the fly method, which returns \"I can fly!\", and the swim method, which returns \"I can swim!\"."
      ],
      "metadata": {
        "id": "kzVGI9SzBP0e"
      }
    },
    {
      "cell_type": "code",
      "source": [
        "class Animal:\n",
        "    def __init__(self, name):\n",
        "        self.name = name\n",
        "\n",
        "    def speak(self):\n",
        "        return \"Generic animal sound\"\n",
        "\n",
        "class CanFly:\n",
        "    def fly(self):\n",
        "        return \"I can fly!\"\n",
        "\n",
        "class CanSwim:\n",
        "    def swim(self):\n",
        "        return \"I can swim!\"\n",
        "\n",
        "class Duck(Animal, CanFly, CanSwim):\n",
        "    def speak(self):\n",
        "        return \"Quack\"\n",
        "\n",
        "duck = Duck(\"Donald\")\n",
        "print(duck.speak()) # Output: Quack\n",
        "print(duck.fly()) # Output: I can fly!\n",
        "print(duck.swim()) # Output: I can swim!\n"
      ],
      "metadata": {
        "colab": {
          "base_uri": "https://localhost:8080/"
        },
        "id": "KPnSH3RbO-hd",
        "outputId": "d20cb7e6-2f84-47b5-ac39-a6f425fd9a07"
      },
      "execution_count": null,
      "outputs": [
        {
          "output_type": "stream",
          "name": "stdout",
          "text": [
            "Quack\n",
            "I can fly!\n",
            "I can swim!\n"
          ]
        }
      ]
    },
    {
      "cell_type": "markdown",
      "source": [
        "**3. Multilevel Inheritance:** When we create an instance of the Duck class, it inherits the swim method from the CanSwim class, which in turn inherits the fly method from the CanFly class, which in turn inherits the speak method from the Animal class. Therefore, we can call the speak method, which returns \"Quack\", as well as the fly method, which returns \"I can fly!\", and the swim method, which returns \"I can swim!\"."
      ],
      "metadata": {
        "id": "5KS149S7PH7W"
      }
    },
    {
      "cell_type": "code",
      "source": [
        "class Animal:\n",
        "    def __init__(self, name):\n",
        "        self.name = name\n",
        "\n",
        "    def speak(self):\n",
        "        return \"Generic animal sound\"\n",
        "\n",
        "class CanFly(Animal):\n",
        "    def fly(self):\n",
        "        return \"I can fly!\"\n",
        "\n",
        "class CanSwim(CanFly):\n",
        "    def swim(self):\n",
        "        return \"I can swim!\"\n",
        "\n",
        "class Duck(CanSwim):\n",
        "    def speak(self):\n",
        "        return \"Quack\"\n",
        "\n",
        "duck = Duck(\"Donald\")\n",
        "print(duck.speak()) # Output: Quack\n",
        "print(duck.fly()) # Output: I can fly!\n",
        "print(duck.swim()) # Output: I can swim!\n"
      ],
      "metadata": {
        "colab": {
          "base_uri": "https://localhost:8080/"
        },
        "id": "_FAOq7A2PoSu",
        "outputId": "28da6f12-460d-4df4-bca2-c2a059a72ce0"
      },
      "execution_count": null,
      "outputs": [
        {
          "output_type": "stream",
          "name": "stdout",
          "text": [
            "Quack\n",
            "I can fly!\n",
            "I can swim!\n"
          ]
        }
      ]
    },
    {
      "cell_type": "markdown",
      "source": [
        "**4. Hierarchical Inheritance:** When we create instances of the Dog, Cat, and Horse classes, each instance inherits the speak method from the Animal class, but overrides it with a specialized implementation to return the appropriate animal sound.\n",
        "\n",
        "\n"
      ],
      "metadata": {
        "id": "SP3oQwoFP6Ss"
      }
    },
    {
      "cell_type": "code",
      "source": [
        "class Animal:\n",
        "    def __init__(self, name):\n",
        "        self.name = name\n",
        "\n",
        "    def speak(self):\n",
        "        return \"Generic animal sound\"\n",
        "\n",
        "class Dog(Animal):\n",
        "    def speak(self):\n",
        "        return \"Woof\"\n",
        "\n",
        "class Cat(Animal):\n",
        "    def speak(self):\n",
        "        return \"Meow\"\n",
        "\n",
        "class Horse(Animal):\n",
        "    def speak(self):\n",
        "        return \"Neigh\"\n",
        "\n",
        "dog = Dog(\"Fido\")\n",
        "cat = Cat(\"Whiskers\")\n",
        "horse = Horse(\"Thunder\")\n",
        "\n",
        "print(dog.speak()) # Output: Woof\n",
        "print(cat.speak()) # Output: Meow\n",
        "print(horse.speak()) # Output: Neigh\n"
      ],
      "metadata": {
        "colab": {
          "base_uri": "https://localhost:8080/"
        },
        "id": "sYFB77LIQS0N",
        "outputId": "577a8894-8d74-46e5-c479-ddae9443101a"
      },
      "execution_count": null,
      "outputs": [
        {
          "output_type": "stream",
          "name": "stdout",
          "text": [
            "Woof\n",
            "Meow\n",
            "Neigh\n"
          ]
        }
      ]
    },
    {
      "cell_type": "markdown",
      "source": [
        "More Terms asked in Interview: \n",
        "\n",
        "**1. Abstract Class:** An abstract class is a class that cannot be instantiated, and is only meant to serve as a base class for other classes to inherit from. Abstract classes can contain abstract methods, which are methods that have no implementation in the abstract class, but must be implemented in any derived classes that inherit from the abstract class.\n",
        "\n",
        "**2. Abstract Method:** An abstract method is a method that is declared in an abstract class but has no implementation. Any derived classes that inherit from the abstract class must implement the abstract method.\n",
        "\n",
        "**3. Interface:** An interface is a collection of abstract methods that define a set of behaviors or capabilities that a class must implement. In Python, interfaces are typically implemented using abstract classes.\n",
        "\n",
        "**4. Aggregation:** Aggregation is a form of composition in which a class contains one or more instances of other classes, but those instances can also exist independently of the class. In other words, the class and its components have a \"has-a\" relationship, rather than an \"is-a\" relationship.\n",
        "\n",
        "**5. Decorator:** A decorator is a special type of function that can be used to modify the behavior of other functions or methods. Decorators are defined using the @<decorator_name> syntax in Python.\n",
        "\n",
        "**6. Super():** The super() function is used to call a method from a parent class in a derived class. It is commonly used in method overriding to call the parent class's implementation of a method.\n",
        "\n",
        "**7. Init Method:** The __init__() method is a special method that is called when an instance of a class is created. It is used to initialize the attributes of the instance with default values or values passed as arguments during instantiation.\n",
        "\n",
        "**8. Static Method:** A static method is a method that is bound to a class rather than an instance of the class. It can be called on the class itself, without the need to create an instance of the class. In Python, static methods are defined using the @staticmethod"
      ],
      "metadata": {
        "id": "OZSNJREWQvZU"
      }
    }
  ]
}